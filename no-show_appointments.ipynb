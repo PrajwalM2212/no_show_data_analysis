{
 "cells": [
  {
   "cell_type": "code",
   "execution_count": 19,
   "metadata": {},
   "outputs": [],
   "source": [
    "\n",
    "import pandas as pd\n",
    "import numpy as np\n",
    "import matplotlib.pyplot as plt\n",
    "import seaborn as sns\n",
    "%matplotlib inline\n",
    "sns.set()\n"
   ]
  },
  {
   "cell_type": "markdown",
   "metadata": {},
   "source": [
    "## Reading file into dataframe"
   ]
  },
  {
   "cell_type": "code",
   "execution_count": 20,
   "metadata": {},
   "outputs": [],
   "source": [
    "df = pd.read_csv('noshowappointments.csv', encoding='utf-8', dtype='unicode')\n"
   ]
  },
  {
   "cell_type": "markdown",
   "metadata": {},
   "source": [
    "## Data Wrangling\n",
    "The dataframe is cleaned to support analysis. The columns PatientID , AppointmentID and AppointmentDay are dropped as they do not help in the analysis. The columns  Age , Scholarship , Hipertension ,Diabetes\t, Alcoholism, Handcap\tand SMS_received are converted to integer type to allow statistical computations."
   ]
  },
  {
   "cell_type": "code",
   "execution_count": 21,
   "metadata": {},
   "outputs": [
    {
     "name": "stdout",
     "output_type": "stream",
     "text": [
      "<class 'pandas.core.frame.DataFrame'>\n",
      "RangeIndex: 65498 entries, 0 to 65497\n",
      "Data columns (total 11 columns):\n",
      "Gender           65498 non-null object\n",
      "ScheduledDay     65498 non-null object\n",
      "Age              65498 non-null int64\n",
      "Neighbourhood    65498 non-null object\n",
      "Scholarship      65498 non-null int64\n",
      "Hipertension     65498 non-null int64\n",
      "Diabetes         65498 non-null int64\n",
      "Alcoholism       65498 non-null int64\n",
      "Handcap          65498 non-null int64\n",
      "SMS_received     65498 non-null int64\n",
      "No-show          65498 non-null object\n",
      "dtypes: int64(7), object(4)\n",
      "memory usage: 5.5+ MB\n"
     ]
    },
    {
     "data": {
      "text/plain": [
       "Gender           0\n",
       "ScheduledDay     0\n",
       "Age              0\n",
       "Neighbourhood    0\n",
       "Scholarship      0\n",
       "Hipertension     0\n",
       "Diabetes         0\n",
       "Alcoholism       0\n",
       "Handcap          0\n",
       "SMS_received     0\n",
       "No-show          0\n",
       "dtype: int64"
      ]
     },
     "execution_count": 21,
     "metadata": {},
     "output_type": "execute_result"
    }
   ],
   "source": [
    "\n",
    "\n",
    "data_a = df.drop(['AppointmentID', 'AppointmentDay'], axis=1)\n",
    "data = data_a.drop(data_a.columns[0], axis=1)\n",
    "\n",
    "data['Hipertension'] = data['Hipertension'].astype(str).astype(int)\n",
    "\n",
    "data['Diabetes'] = data['Diabetes'].astype(str).astype(int)\n",
    "\n",
    "data['Alcoholism'] = data['Alcoholism'].astype(str).astype(int)\n",
    "\n",
    "data['Scholarship'] = data['Scholarship'].astype(str).astype(int)\n",
    "\n",
    "data['Handcap'] = data['Handcap'].astype(str).astype(int)\n",
    "\n",
    "data['SMS_received'] = data['Handcap'].astype(str).astype(int)\n",
    "\n",
    "data['Age'] = data['Age'].astype(str).astype(int)\n",
    "\n",
    "data.info()\n",
    "data.isnull().sum()"
   ]
  },
  {
   "cell_type": "code",
   "execution_count": 22,
   "metadata": {},
   "outputs": [
    {
     "data": {
      "text/plain": [
       "Gender               2\n",
       "ScheduledDay     62318\n",
       "Age                101\n",
       "Neighbourhood       80\n",
       "Scholarship          2\n",
       "Hipertension         2\n",
       "Diabetes             2\n",
       "Alcoholism           2\n",
       "Handcap              4\n",
       "SMS_received         4\n",
       "No-show              2\n",
       "dtype: int64"
      ]
     },
     "execution_count": 22,
     "metadata": {},
     "output_type": "execute_result"
    }
   ],
   "source": [
    "data.nunique()"
   ]
  },
  {
   "cell_type": "code",
   "execution_count": 23,
   "metadata": {},
   "outputs": [
    {
     "data": {
      "text/plain": [
       "array(['F', 'M'], dtype=object)"
      ]
     },
     "execution_count": 23,
     "metadata": {},
     "output_type": "execute_result"
    }
   ],
   "source": [
    "data['Gender'].unique()"
   ]
  },
  {
   "cell_type": "code",
   "execution_count": 24,
   "metadata": {},
   "outputs": [
    {
     "data": {
      "text/plain": [
       "array(['2016-04-29T18:38:08Z', '2016-04-29T16:08:27Z',\n",
       "       '2016-04-29T16:19:04Z', ..., '2016-03-17T10:02:49Z',\n",
       "       '2016-03-28T15:29:57Z', '2016-05-20T14:59:17Z'], dtype=object)"
      ]
     },
     "execution_count": 24,
     "metadata": {},
     "output_type": "execute_result"
    }
   ],
   "source": [
    "data['ScheduledDay'].unique()"
   ]
  },
  {
   "cell_type": "code",
   "execution_count": 25,
   "metadata": {},
   "outputs": [
    {
     "data": {
      "text/plain": [
       "array([0, 1])"
      ]
     },
     "execution_count": 25,
     "metadata": {},
     "output_type": "execute_result"
    }
   ],
   "source": [
    "data['Scholarship'].unique()"
   ]
  },
  {
   "cell_type": "code",
   "execution_count": 26,
   "metadata": {},
   "outputs": [
    {
     "data": {
      "text/plain": [
       "array([1, 0])"
      ]
     },
     "execution_count": 26,
     "metadata": {},
     "output_type": "execute_result"
    }
   ],
   "source": [
    "data['Hipertension'].unique()"
   ]
  },
  {
   "cell_type": "code",
   "execution_count": 27,
   "metadata": {},
   "outputs": [
    {
     "data": {
      "text/plain": [
       "array([0, 1])"
      ]
     },
     "execution_count": 27,
     "metadata": {},
     "output_type": "execute_result"
    }
   ],
   "source": [
    "data['Diabetes'].unique()"
   ]
  },
  {
   "cell_type": "code",
   "execution_count": 28,
   "metadata": {},
   "outputs": [
    {
     "data": {
      "text/plain": [
       "array([0, 1])"
      ]
     },
     "execution_count": 28,
     "metadata": {},
     "output_type": "execute_result"
    }
   ],
   "source": [
    "data['Alcoholism'].unique()"
   ]
  },
  {
   "cell_type": "code",
   "execution_count": 29,
   "metadata": {},
   "outputs": [
    {
     "data": {
      "text/plain": [
       "array([0, 1, 2, 3])"
      ]
     },
     "execution_count": 29,
     "metadata": {},
     "output_type": "execute_result"
    }
   ],
   "source": [
    "data['Handcap'].unique()"
   ]
  },
  {
   "cell_type": "code",
   "execution_count": 30,
   "metadata": {},
   "outputs": [
    {
     "data": {
      "text/plain": [
       "array(['No', 'Yes'], dtype=object)"
      ]
     },
     "execution_count": 30,
     "metadata": {},
     "output_type": "execute_result"
    }
   ],
   "source": [
    "data['No-show'].unique()"
   ]
  },
  {
   "cell_type": "code",
   "execution_count": 31,
   "metadata": {},
   "outputs": [
    {
     "data": {
      "text/plain": [
       "array([ 62,  56,   8,  76,  23,  39,  21,  19,  30,  29,  22,  28,  54,\n",
       "        15,  50,  40,  46,   4,  13,  65,  45,  51,  32,  12,  61,  38,\n",
       "        79,  18,  63,  64,  85,  59,  55,  71,  49,  78,  31,  58,  27,\n",
       "         6,   2,  11,   7,   0,   3,   1,  69,  68,  60,  67,  36,  10,\n",
       "        35,  20,  26,  34,  33,  16,  42,   5,  47,  17,  41,  44,  37,\n",
       "        24,  66,  77,  81,  70,  53,  75,  73,  52,  74,  43,  89,  57,\n",
       "        14,   9,  48,  83,  72,  25,  80,  87,  88,  84,  82,  90,  94,\n",
       "        86,  91,  98,  92,  96,  93,  95,  97, 102, 115])"
      ]
     },
     "execution_count": 31,
     "metadata": {},
     "output_type": "execute_result"
    }
   ],
   "source": [
    "data['Age'].unique()"
   ]
  },
  {
   "cell_type": "code",
   "execution_count": 32,
   "metadata": {},
   "outputs": [],
   "source": [
    "data = data.drop(data.index[data.Age == 0])"
   ]
  },
  {
   "cell_type": "code",
   "execution_count": 33,
   "metadata": {},
   "outputs": [
    {
     "data": {
      "text/plain": [
       "100"
      ]
     },
     "execution_count": 33,
     "metadata": {},
     "output_type": "execute_result"
    }
   ],
   "source": [
    "data['Age'].nunique()"
   ]
  },
  {
   "cell_type": "code",
   "execution_count": 34,
   "metadata": {},
   "outputs": [
    {
     "data": {
      "text/plain": [
       "array([ 62,  56,   8,  76,  23,  39,  21,  19,  30,  29,  22,  28,  54,\n",
       "        15,  50,  40,  46,   4,  13,  65,  45,  51,  32,  12,  61,  38,\n",
       "        79,  18,  63,  64,  85,  59,  55,  71,  49,  78,  31,  58,  27,\n",
       "         6,   2,  11,   7,   3,   1,  69,  68,  60,  67,  36,  10,  35,\n",
       "        20,  26,  34,  33,  16,  42,   5,  47,  17,  41,  44,  37,  24,\n",
       "        66,  77,  81,  70,  53,  75,  73,  52,  74,  43,  89,  57,  14,\n",
       "         9,  48,  83,  72,  25,  80,  87,  88,  84,  82,  90,  94,  86,\n",
       "        91,  98,  92,  96,  93,  95,  97, 102, 115])"
      ]
     },
     "execution_count": 34,
     "metadata": {},
     "output_type": "execute_result"
    }
   ],
   "source": [
    "data['Age'].unique()"
   ]
  },
  {
   "cell_type": "markdown",
   "metadata": {},
   "source": [
    "The row with age zero has been dropped ."
   ]
  },
  {
   "cell_type": "code",
   "execution_count": 35,
   "metadata": {},
   "outputs": [
    {
     "data": {
      "text/plain": [
       "array([0, 1, 2, 3])"
      ]
     },
     "execution_count": 35,
     "metadata": {},
     "output_type": "execute_result"
    }
   ],
   "source": [
    "data['SMS_received'].unique()"
   ]
  },
  {
   "cell_type": "markdown",
   "metadata": {},
   "source": [
    "There are four unique values for SMS_received . It is not exactly known what the four values encode for and may represent different types of messages . Hence it cannot be conclusively said that the column SMS_received has erroneous values."
   ]
  },
  {
   "cell_type": "markdown",
   "metadata": {},
   "source": [
    "The data does not contain any null or missing values. Only age column contained a value of zero which cannot be true and hence that row has been dropped."
   ]
  },
  {
   "cell_type": "markdown",
   "metadata": {},
   "source": [
    "## Investigations\n",
    "\n",
    "1. What is the distribution of males and females in the data ?\n",
    "2. What is the distribution of patients based on Scholarship ?\n",
    "3. What is the distribution of patients based on any two diseases ?\n",
    "4. What is the distribution of patients based on Attendance ?\n",
    "5. What is the mean age of people based on Gender and Scholarships ?\n",
    "6. How is the distribution of age for gender based on Scholarship ?\n",
    "7. How is the distribution of age for diabetes based on hypertension  ?\n"
   ]
  },
  {
   "cell_type": "markdown",
   "metadata": {},
   "source": [
    "### Investigation 1"
   ]
  },
  {
   "cell_type": "code",
   "execution_count": 36,
   "metadata": {},
   "outputs": [
    {
     "name": "stdout",
     "output_type": "stream",
     "text": [
      "22153\n",
      "41179\n"
     ]
    },
    {
     "data": {
      "image/png": "[encoded data removed]",
      "text/plain": [
       "<matplotlib.figure.Figure at 0x1a1d8683c8>"
      ]
     },
     "metadata": {},
     "output_type": "display_data"
    }
   ],
   "source": [
    "\n",
    "def count_gender(column):\n",
    "    ''' Returns the number of males and females in the data'''\n",
    "\n",
    "    count_male = 0\n",
    "    count_female = 0\n",
    "\n",
    "    for gender in column:\n",
    "\n",
    "        if(gender == 'M'):\n",
    "            count_male += 1\n",
    "        elif(gender == 'F'):\n",
    "            count_female += 1\n",
    "\n",
    "    print(count_male)\n",
    "    print(count_female)\n",
    "    return count_male, count_female\n",
    "\n",
    "\n",
    "gender_tuple = count_gender(data.loc[:, 'Gender'])\n",
    "\n",
    "x = range(len(gender_tuple))\n",
    "plt.bar(x, gender_tuple)\n",
    "plt.xticks(x, ('Male', 'Female'))\n",
    "plt.xlabel(\"Gender\")\n",
    "plt.ylabel(\"Number of Patients\")\n",
    "plt.title(\"Distribution of Patients on Gender\")\n",
    "plt.show()\n"
   ]
  },
  {
   "cell_type": "markdown",
   "metadata": {},
   "source": [
    "The number of females in the data are more than the number of males ."
   ]
  },
  {
   "cell_type": "code",
   "execution_count": 37,
   "metadata": {},
   "outputs": [],
   "source": [
    "def plot_distribution(values, ticks, title):\n",
    "    '''A utility function to plot graphs'''\n",
    "\n",
    "    x = range(len(values))\n",
    "    plt.bar(x, values)\n",
    "    plt.xticks(x, ticks)\n",
    "    plt.title(\"Distribution of Patients based on {} \".format(title))\n",
    "    plt.ylabel(\"Number of Patients\")\n",
    "    plt.show()"
   ]
  },
  {
   "cell_type": "markdown",
   "metadata": {},
   "source": [
    "### Investigation 2 ,3 ,4"
   ]
  },
  {
   "cell_type": "code",
   "execution_count": 38,
   "metadata": {},
   "outputs": [
    {
     "name": "stdout",
     "output_type": "stream",
     "text": [
      "56790\n",
      "6542\n",
      "89.67030884860733\n"
     ]
    },
    {
     "data": {
      "image/png": "[encoded data removed]",
      "text/plain": [
       "<matplotlib.figure.Figure at 0x1a1b48d278>"
      ]
     },
     "metadata": {},
     "output_type": "display_data"
    },
    {
     "name": "stdout",
     "output_type": "stream",
     "text": [
      "50628\n",
      "12704\n",
      "79.94063032905956\n"
     ]
    },
    {
     "data": {
      "image/png": "[encoded data removed]",
      "text/plain": [
       "<matplotlib.figure.Figure at 0x10eebdf60>"
      ]
     },
     "metadata": {},
     "output_type": "display_data"
    },
    {
     "name": "stdout",
     "output_type": "stream",
     "text": [
      "58847\n",
      "4485\n",
      "92.91827196362028\n"
     ]
    },
    {
     "data": {
      "image/png": "[encoded data removed]",
      "text/plain": [
       "<matplotlib.figure.Figure at 0x10eef8ac8>"
      ]
     },
     "metadata": {},
     "output_type": "display_data"
    }
   ],
   "source": [
    "def count_values(column):\n",
    "    '''Returns the count of zero and one'''\n",
    "\n",
    "    count_zero = 0\n",
    "    count_one = 0\n",
    "\n",
    "    for element in column:\n",
    "        if element == 0:\n",
    "            count_zero += 1\n",
    "        elif element == 1:\n",
    "            count_one += 1\n",
    "\n",
    "    print(count_zero)\n",
    "    print(count_one)\n",
    "    return count_zero, count_one\n",
    "\n",
    "\n",
    "s_tuple = count_values(data.loc[:, 'Scholarship'])\n",
    "print(((s_tuple[0])/(s_tuple[0]+s_tuple[1]))*100)\n",
    "plot_distribution(s_tuple, ('No Scholarship',\n",
    "                            'Have Scholarship'), 'Scholarship')\n",
    "\n",
    "\n",
    "h_tuple = count_values(data.loc[:, 'Hipertension'])\n",
    "print(((h_tuple[0])/(h_tuple[0]+h_tuple[1]))*100)\n",
    "plot_distribution(h_tuple, ('No Hypertension',\n",
    "                            'Have Hypertension'), 'Hypertension')\n",
    "\n",
    "d_tuple = count_values(data.loc[:, 'Diabetes'])\n",
    "print(((d_tuple[0])/(d_tuple[0]+d_tuple[1]))*100)\n",
    "plot_distribution(d_tuple, ('No Diabetes', 'Have Diabetes'), 'Diabetes')\n"
   ]
  },
  {
   "cell_type": "markdown",
   "metadata": {},
   "source": [
    "Only a small propotion of people have scholarships . 89.9% of the people do not have scholarships.\n",
    "80.60 % of people do not have hypertension.\n",
    "93.15 % of the people do not have diabetes."
   ]
  },
  {
   "cell_type": "code",
   "execution_count": 39,
   "metadata": {},
   "outputs": [
    {
     "name": "stdout",
     "output_type": "stream",
     "text": [
      "49846\n",
      "13486\n",
      "78.7058674919472\n"
     ]
    },
    {
     "data": {
      "image/png": "[encoded data removed]",
      "text/plain": [
       "<matplotlib.figure.Figure at 0x118143828>"
      ]
     },
     "metadata": {},
     "output_type": "display_data"
    }
   ],
   "source": [
    "def count_appointments(column):\n",
    "    '''Returns the number of people showing up and not showing up'''\n",
    "\n",
    "    count_no = 0\n",
    "    count_yes = 0\n",
    "\n",
    "    for element in column:\n",
    "\n",
    "        if element == 'No':\n",
    "            count_no += 1\n",
    "        elif element == 'Yes':\n",
    "            count_yes += 1\n",
    "\n",
    "    print(count_no)\n",
    "    print(count_yes)\n",
    "    return count_no, count_yes\n",
    "\n",
    "\n",
    "no_tuple = count_appointments(data.loc[:, 'No-show'])\n",
    "print(((no_tuple[0])/(no_tuple[0]+no_tuple[1]))*100)\n",
    "plot_distribution(no_tuple, ('Showed Up', 'No Show'), 'Attendance')"
   ]
  },
  {
   "cell_type": "markdown",
   "metadata": {},
   "source": [
    "78.76 % of the people show up for checkups ."
   ]
  },
  {
   "cell_type": "code",
   "execution_count": 40,
   "metadata": {},
   "outputs": [
    {
     "data": {
      "image/png": "[encoded data removed]",
      "text/plain": [
       "<matplotlib.figure.Figure at 0x1a20319e48>"
      ]
     },
     "metadata": {},
     "output_type": "display_data"
    }
   ],
   "source": [
    "age_col = data.loc[:, 'Age']\n",
    "plt.hist(age_col, 'auto')\n",
    "plt.xlabel('Age')\n",
    "plt.ylabel('Number of Patients')\n",
    "plt.title('Age Distribution')\n",
    "plt.show()"
   ]
  },
  {
   "cell_type": "markdown",
   "metadata": {},
   "source": [
    "Visual distribution of age "
   ]
  },
  {
   "cell_type": "markdown",
   "metadata": {},
   "source": [
    "### Investigation 5"
   ]
  },
  {
   "cell_type": "code",
   "execution_count": 41,
   "metadata": {},
   "outputs": [
    {
     "name": "stdout",
     "output_type": "stream",
     "text": [
      "61246\n",
      "2086\n"
     ]
    },
    {
     "data": {
      "text/plain": [
       "Gender\n",
       "F    39.394546\n",
       "M    34.934682\n",
       "Name: Age, dtype: float64"
      ]
     },
     "execution_count": 41,
     "metadata": {},
     "output_type": "execute_result"
    }
   ],
   "source": [
    "count_values(data.loc[:, 'Alcoholism'])\n",
    "data['Alcoholism'].nunique()\n",
    "\n",
    "data.groupby('Gender')['Age'].mean()"
   ]
  },
  {
   "cell_type": "markdown",
   "metadata": {},
   "source": [
    "The mean age of females is 38.40 and the mean age of males is 33.26."
   ]
  },
  {
   "cell_type": "code",
   "execution_count": 42,
   "metadata": {},
   "outputs": [
    {
     "data": {
      "text/plain": [
       "Scholarship\n",
       "0    38.632171\n",
       "1    30.910272\n",
       "Name: Age, dtype: float64"
      ]
     },
     "execution_count": 42,
     "metadata": {},
     "output_type": "execute_result"
    }
   ],
   "source": [
    "data.groupby('Scholarship').mean()['Age']"
   ]
  },
  {
   "cell_type": "markdown",
   "metadata": {},
   "source": [
    "The mean age of people with scholarship is 30.74 and that of people without scholarship is 37.23. "
   ]
  },
  {
   "cell_type": "code",
   "execution_count": 43,
   "metadata": {},
   "outputs": [
    {
     "data": {
      "text/plain": [
       "Gender\n",
       "F    115\n",
       "M     98\n",
       "Name: Age, dtype: int64"
      ]
     },
     "execution_count": 43,
     "metadata": {},
     "output_type": "execute_result"
    }
   ],
   "source": [
    "data.groupby('Gender').max()['Age']"
   ]
  },
  {
   "cell_type": "markdown",
   "metadata": {},
   "source": [
    "The oldest female is 115 years old and the oldest male is 98 years old."
   ]
  },
  {
   "cell_type": "markdown",
   "metadata": {},
   "source": [
    "### Investigation 6"
   ]
  },
  {
   "cell_type": "code",
   "execution_count": 44,
   "metadata": {},
   "outputs": [
    {
     "name": "stdout",
     "output_type": "stream",
     "text": [
      "                          Age\n",
      "Gender Scholarship           \n",
      "F      0            40.315375\n",
      "       1            33.259397\n",
      "M      0            35.760257\n",
      "       1            20.101884\n"
     ]
    },
    {
     "data": {
      "image/png": "[encoded data removed]",
      "text/plain": [
       "<matplotlib.figure.Figure at 0x1a1b137a90>"
      ]
     },
     "metadata": {},
     "output_type": "display_data"
    }
   ],
   "source": [
    "\n",
    "pivot_age_scholarship = data.pivot_table(\n",
    "    values=['Age'], index=['Gender', 'Scholarship'], aggfunc=np.mean)\n",
    "plt = pivot_age_scholarship.plot(\n",
    "    title=\"Mean Age based on Gender and Scholarship\", kind='barh')\n",
    "plt.set_xlabel(\"Mean Age\")\n",
    "ticks = (\"(Female,No Scholarship)\", \"(Female,Scholarship)\",\n",
    "         \"(Male,No Scholarship)\", \"(Male,Scholarship)\")\n",
    "plt.set_yticklabels(ticks)\n",
    "print(pivot_age_scholarship)\n"
   ]
  },
  {
   "cell_type": "markdown",
   "metadata": {},
   "source": [
    "For females those with scholarships have an average age of 33.14 and those without scholarships have an average age of 39.14 . For males those with scholarships have an average age of 19.81 and those without scholarships have an average age of 33.98 "
   ]
  },
  {
   "cell_type": "code",
   "execution_count": 45,
   "metadata": {},
   "outputs": [
    {
     "name": "stdout",
     "output_type": "stream",
     "text": [
      "                                   Age\n",
      "Gender Scholarship Diabetes           \n",
      "F      0           0         38.349215\n",
      "                   1         62.674845\n",
      "       1           0         32.147053\n",
      "                   1         52.006645\n",
      "M      0           0         34.130102\n",
      "                   1         61.236926\n",
      "       1           0         19.260526\n",
      "                   1         54.357143\n"
     ]
    },
    {
     "data": {
      "text/plain": [
       "[Text(0,0,'(Female, No Scholarship, No Diabetes)'),\n",
       " Text(0,0,'(Female, No Scholarship, Diabetes)'),\n",
       " Text(0,0,'(Female, Scholarship, No Diabetes)'),\n",
       " Text(0,0,'(Female, Scholarship, Diabetes)'),\n",
       " Text(0,0,'(Male, No Scholarship, No Diabetes)'),\n",
       " Text(0,0,'(Male, No Scholarship, Diabetes)'),\n",
       " Text(0,0,'(Male, Scholarship, No Diabetes)'),\n",
       " Text(0,0,'(Male, Scholarship, Diabetes)')]"
      ]
     },
     "execution_count": 45,
     "metadata": {},
     "output_type": "execute_result"
    },
    {
     "data": {
      "image/png": "[encoded data removed]",
      "text/plain": [
       "<matplotlib.figure.Figure at 0x1180ef358>"
      ]
     },
     "metadata": {},
     "output_type": "display_data"
    }
   ],
   "source": [
    "pivot_a_s_d = data.pivot_table(\n",
    "    values=['Age'], index=['Gender', 'Scholarship', 'Diabetes'], aggfunc=np.mean)\n",
    "\n",
    "print(pivot_a_s_d)\n",
    "plt = pivot_a_s_d.plot(\n",
    "    kind='barh', title=\"Mean Age based on Gender, Scholarship and Diabetes\")\n",
    "plt.set_xlabel(\"Mean Age\")\n",
    "ticks = (\"(Female, No Scholarship, No Diabetes)\", \"(Female, No Scholarship, Diabetes)\", \"(Female, Scholarship, No Diabetes)\",\n",
    "         \"(Female, Scholarship, Diabetes)\", \"(Male, No Scholarship, No Diabetes)\", \"(Male, No Scholarship, Diabetes)\",\n",
    "         \"(Male, Scholarship, No Diabetes)\", \"(Male, Scholarship, Diabetes)\")\n",
    "plt.set_yticklabels(ticks)\n"
   ]
  },
  {
   "cell_type": "markdown",
   "metadata": {},
   "source": [
    "### Investigation 7"
   ]
  },
  {
   "cell_type": "code",
   "execution_count": 46,
   "metadata": {},
   "outputs": [
    {
     "name": "stdout",
     "output_type": "stream",
     "text": [
      "                             Age\n",
      "Hipertension Diabetes           \n",
      "0            0         31.852862\n",
      "             1         52.757463\n",
      "1            0         59.100188\n",
      "             1         63.412388\n"
     ]
    },
    {
     "data": {
      "text/plain": [
       "[Text(0,0,'(No Hypertension, No Diabetes)'),\n",
       " Text(0,0,'(No Hypertension, Diabetes)'),\n",
       " Text(0,0,'(Hypertension, No Diabetes)'),\n",
       " Text(0,0,'(Hypertension, Diabetes)')]"
      ]
     },
     "execution_count": 46,
     "metadata": {},
     "output_type": "execute_result"
    },
    {
     "data": {
      "image/png": "[encoded data removed]",
      "text/plain": [
       "<matplotlib.figure.Figure at 0x117e73b00>"
      ]
     },
     "metadata": {},
     "output_type": "display_data"
    }
   ],
   "source": [
    "pivot_a_h_d = data.pivot_table(\n",
    "    values=['Age'], index=['Hipertension', 'Diabetes'], aggfunc=np.mean)\n",
    "print(pivot_a_h_d)\n",
    "plt = pivot_a_h_d.plot(\n",
    "    kind='barh', title=\"Mean Age based on Diabetes and Hypertension\")\n",
    "plt.set_xlabel(\"Mean Age\")\n",
    "ticks = (\"(No Hypertension, No Diabetes)\", \"(No Hypertension, Diabetes)\", \"(Hypertension, No Diabetes)\",\n",
    "         \"(Hypertension, Diabetes)\")\n",
    "plt.set_yticklabels(ticks)\n"
   ]
  },
  {
   "cell_type": "markdown",
   "metadata": {},
   "source": [
    "The average age of people who do not have hypertension and diabetes is 30.52.\n",
    "The average age of people who do not have hypertension but have diabetes is 52.75 .\n",
    "The average age of people who have hypertension and do not have diabetes is 59.10.\n",
    "The average age of people who have hypertension and diabetes is 63.41."
   ]
  },
  {
   "cell_type": "markdown",
   "metadata": {},
   "source": [
    "## Conclusion"
   ]
  },
  {
   "cell_type": "markdown",
   "metadata": {},
   "source": [
    "There are a large number of females in the data compared to the males. Only a small propotion of the people in the data have scholarships.It is also observed that only few have hypertension and diabetes.Males and females with no scholarships have a larger mean age compared to their counterparts with scholarships.People with both diabetes and hypertension have a higher mean age.\n",
    "I wish there was data about more diseases. \n",
    "\n",
    "#### Limitations \n",
    "The analysis is limited to the sample only . It is also not known if data is a random sample ."
   ]
  }
 ],
 "metadata": {
  "kernelspec": {
   "display_name": "Python [conda env:anaconda3]",
   "language": "python",
   "name": "conda-env-anaconda3-py"
  },
  "language_info": {
   "codemirror_mode": {
    "name": "ipython",
    "version": 3
   },
   "file_extension": ".py",
   "mimetype": "text/x-python",
   "name": "python",
   "nbconvert_exporter": "python",
   "pygments_lexer": "ipython3",
   "version": "3.6.4"
  }
 },
 "nbformat": 4,
 "nbformat_minor": 2
}
